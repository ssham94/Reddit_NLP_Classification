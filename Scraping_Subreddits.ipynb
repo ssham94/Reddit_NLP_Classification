{
 "cells": [
  {
   "cell_type": "markdown",
   "metadata": {},
   "source": [
    "### Importing all necessary libraries for web scraping"
   ]
  },
  {
   "cell_type": "code",
   "execution_count": 132,
   "metadata": {},
   "outputs": [],
   "source": [
    "import pandas as pd\n",
    "import numpy as np\n",
    "import requests\n",
    "import json\n",
    "import time"
   ]
  },
  {
   "cell_type": "markdown",
   "metadata": {},
   "source": [
    "### Setting URLs for the subreddits"
   ]
  },
  {
   "cell_type": "code",
   "execution_count": 133,
   "metadata": {},
   "outputs": [],
   "source": [
    "# creating URLs and header so that the reddit api responds\n",
    "url1 = 'https://www.reddit.com/r/leagueoflegends/.json'\n",
    "url2 = 'https://www.reddit.com/r/DotA2.json'\n",
    "headers = {'User-agent': 'stan-sham'}"
   ]
  },
  {
   "cell_type": "code",
   "execution_count": 134,
   "metadata": {},
   "outputs": [],
   "source": [
    "# creating access to reddit API\n",
    "res1 = requests.get(url1, headers = headers)\n",
    "res2 = requests.get(url2, headers = headers)"
   ]
  },
  {
   "cell_type": "code",
   "execution_count": 135,
   "metadata": {},
   "outputs": [
    {
     "name": "stdout",
     "output_type": "stream",
     "text": [
      "200\n",
      "200\n"
     ]
    }
   ],
   "source": [
    "# Checking to see that this is a valid subreddit\n",
    "print(res1.status_code)\n",
    "print(res2.status_code)"
   ]
  },
  {
   "cell_type": "code",
   "execution_count": 136,
   "metadata": {},
   "outputs": [],
   "source": [
    "# Following function code was provided by Boom Devahastin Na Ayudhya\n",
    "# Function to pull subreddit posts\n",
    "def get_subreddit(url, n_pulls, headers):    \n",
    "\n",
    "    # Create empty templates\n",
    "    posts = []\n",
    "    after = None\n",
    "\n",
    "    # Create a loop that does max 25 requests per pull\n",
    "    for pull_num in range(n_pulls):\n",
    "        print(\"Pulling data attempted\", pull_num+1,\"time(s)\")\n",
    "\n",
    "        if after == None:\n",
    "            new_url = url                 # base case\n",
    "        else:\n",
    "            new_url = url+\"?after=\"+after # subsequent iterations\n",
    "\n",
    "        res = requests.get(new_url, headers=headers)\n",
    "\n",
    "        if res.status_code == 200:\n",
    "            subreddit_json = res.json()                      # Pull JSON\n",
    "            posts.extend(subreddit_json['data']['children']) # Get subreddit posts\n",
    "            after = subreddit_json['data']['after']          # 'after' = ID of the last post in this iteration\n",
    "        else:\n",
    "            print(\"We've run into an error. The status code is:\", res.status_code)\n",
    "            break\n",
    "\n",
    "        time.sleep(1)\n",
    "        \n",
    "    return(posts)\n",
    "\n",
    "# Doesn't give dataframe, gotta make your own"
   ]
  },
  {
   "cell_type": "code",
   "execution_count": 137,
   "metadata": {},
   "outputs": [
    {
     "name": "stdout",
     "output_type": "stream",
     "text": [
      "Pulling data attempted 1 time(s)\n",
      "Pulling data attempted 2 time(s)\n",
      "Pulling data attempted 3 time(s)\n",
      "Pulling data attempted 4 time(s)\n",
      "Pulling data attempted 5 time(s)\n",
      "Pulling data attempted 6 time(s)\n",
      "Pulling data attempted 7 time(s)\n",
      "Pulling data attempted 8 time(s)\n",
      "Pulling data attempted 9 time(s)\n",
      "Pulling data attempted 10 time(s)\n",
      "Pulling data attempted 11 time(s)\n",
      "Pulling data attempted 12 time(s)\n",
      "Pulling data attempted 13 time(s)\n",
      "Pulling data attempted 14 time(s)\n",
      "Pulling data attempted 15 time(s)\n",
      "Pulling data attempted 16 time(s)\n",
      "Pulling data attempted 17 time(s)\n",
      "Pulling data attempted 18 time(s)\n",
      "Pulling data attempted 19 time(s)\n",
      "Pulling data attempted 20 time(s)\n",
      "Pulling data attempted 21 time(s)\n",
      "Pulling data attempted 22 time(s)\n",
      "Pulling data attempted 23 time(s)\n",
      "Pulling data attempted 24 time(s)\n",
      "Pulling data attempted 25 time(s)\n",
      "Pulling data attempted 26 time(s)\n",
      "Pulling data attempted 27 time(s)\n",
      "Pulling data attempted 28 time(s)\n",
      "Pulling data attempted 29 time(s)\n",
      "Pulling data attempted 30 time(s)\n",
      "Pulling data attempted 31 time(s)\n",
      "Pulling data attempted 32 time(s)\n",
      "Pulling data attempted 33 time(s)\n",
      "Pulling data attempted 34 time(s)\n",
      "Pulling data attempted 35 time(s)\n",
      "Pulling data attempted 36 time(s)\n",
      "Pulling data attempted 37 time(s)\n",
      "Pulling data attempted 38 time(s)\n",
      "Pulling data attempted 39 time(s)\n",
      "Pulling data attempted 40 time(s)\n",
      "Pulling data attempted 41 time(s)\n",
      "Pulling data attempted 42 time(s)\n",
      "Pulling data attempted 43 time(s)\n",
      "Pulling data attempted 44 time(s)\n",
      "Pulling data attempted 45 time(s)\n",
      "Pulling data attempted 46 time(s)\n",
      "Pulling data attempted 47 time(s)\n",
      "Pulling data attempted 48 time(s)\n",
      "Pulling data attempted 49 time(s)\n",
      "Pulling data attempted 50 time(s)\n",
      "Pulling data attempted 51 time(s)\n",
      "Pulling data attempted 52 time(s)\n",
      "Pulling data attempted 53 time(s)\n",
      "Pulling data attempted 54 time(s)\n",
      "Pulling data attempted 55 time(s)\n",
      "Pulling data attempted 56 time(s)\n",
      "Pulling data attempted 57 time(s)\n",
      "Pulling data attempted 58 time(s)\n",
      "Pulling data attempted 59 time(s)\n",
      "Pulling data attempted 60 time(s)\n"
     ]
    }
   ],
   "source": [
    "# Pulling league of legends data into list for easier manipulation\n",
    "leagueList = get_subreddit(url1, 60, headers)"
   ]
  },
  {
   "cell_type": "code",
   "execution_count": 138,
   "metadata": {},
   "outputs": [
    {
     "name": "stdout",
     "output_type": "stream",
     "text": [
      "Pulling data attempted 1 time(s)\n",
      "Pulling data attempted 2 time(s)\n",
      "Pulling data attempted 3 time(s)\n",
      "Pulling data attempted 4 time(s)\n",
      "Pulling data attempted 5 time(s)\n",
      "Pulling data attempted 6 time(s)\n",
      "Pulling data attempted 7 time(s)\n",
      "Pulling data attempted 8 time(s)\n",
      "Pulling data attempted 9 time(s)\n",
      "Pulling data attempted 10 time(s)\n",
      "Pulling data attempted 11 time(s)\n",
      "Pulling data attempted 12 time(s)\n",
      "Pulling data attempted 13 time(s)\n",
      "Pulling data attempted 14 time(s)\n",
      "Pulling data attempted 15 time(s)\n",
      "Pulling data attempted 16 time(s)\n",
      "Pulling data attempted 17 time(s)\n",
      "Pulling data attempted 18 time(s)\n",
      "Pulling data attempted 19 time(s)\n",
      "Pulling data attempted 20 time(s)\n",
      "Pulling data attempted 21 time(s)\n",
      "Pulling data attempted 22 time(s)\n",
      "Pulling data attempted 23 time(s)\n",
      "Pulling data attempted 24 time(s)\n",
      "Pulling data attempted 25 time(s)\n",
      "Pulling data attempted 26 time(s)\n",
      "Pulling data attempted 27 time(s)\n",
      "Pulling data attempted 28 time(s)\n",
      "Pulling data attempted 29 time(s)\n",
      "Pulling data attempted 30 time(s)\n",
      "Pulling data attempted 31 time(s)\n",
      "Pulling data attempted 32 time(s)\n",
      "Pulling data attempted 33 time(s)\n",
      "Pulling data attempted 34 time(s)\n",
      "Pulling data attempted 35 time(s)\n",
      "Pulling data attempted 36 time(s)\n",
      "Pulling data attempted 37 time(s)\n",
      "Pulling data attempted 38 time(s)\n",
      "Pulling data attempted 39 time(s)\n",
      "Pulling data attempted 40 time(s)\n",
      "Pulling data attempted 41 time(s)\n",
      "Pulling data attempted 42 time(s)\n",
      "Pulling data attempted 43 time(s)\n",
      "Pulling data attempted 44 time(s)\n",
      "Pulling data attempted 45 time(s)\n",
      "Pulling data attempted 46 time(s)\n",
      "Pulling data attempted 47 time(s)\n",
      "Pulling data attempted 48 time(s)\n",
      "Pulling data attempted 49 time(s)\n",
      "Pulling data attempted 50 time(s)\n",
      "Pulling data attempted 51 time(s)\n",
      "Pulling data attempted 52 time(s)\n",
      "Pulling data attempted 53 time(s)\n",
      "Pulling data attempted 54 time(s)\n",
      "Pulling data attempted 55 time(s)\n",
      "Pulling data attempted 56 time(s)\n",
      "Pulling data attempted 57 time(s)\n",
      "Pulling data attempted 58 time(s)\n",
      "Pulling data attempted 59 time(s)\n",
      "Pulling data attempted 60 time(s)\n",
      "Pulling data attempted 61 time(s)\n",
      "Pulling data attempted 62 time(s)\n",
      "Pulling data attempted 63 time(s)\n",
      "Pulling data attempted 64 time(s)\n",
      "Pulling data attempted 65 time(s)\n",
      "Pulling data attempted 66 time(s)\n",
      "Pulling data attempted 67 time(s)\n",
      "Pulling data attempted 68 time(s)\n",
      "Pulling data attempted 69 time(s)\n",
      "Pulling data attempted 70 time(s)\n",
      "Pulling data attempted 71 time(s)\n",
      "Pulling data attempted 72 time(s)\n",
      "Pulling data attempted 73 time(s)\n",
      "Pulling data attempted 74 time(s)\n",
      "Pulling data attempted 75 time(s)\n",
      "Pulling data attempted 76 time(s)\n",
      "Pulling data attempted 77 time(s)\n",
      "Pulling data attempted 78 time(s)\n",
      "Pulling data attempted 79 time(s)\n",
      "Pulling data attempted 80 time(s)\n"
     ]
    }
   ],
   "source": [
    "# pulling apex legends data into list\n",
    "dotaList = get_subreddit(url2, 80, headers)"
   ]
  },
  {
   "cell_type": "code",
   "execution_count": 139,
   "metadata": {},
   "outputs": [],
   "source": [
    "# Creating function to separate title, text, and the subreddit that its from\n",
    "def convertSubreddit(subreddit):\n",
    "    titleList = []\n",
    "    textList = []\n",
    "    subredditList = []\n",
    "    for i in range(len(subreddit)):\n",
    "        titleList.append(subreddit[i]['data']['title'])\n",
    "        textList.append(subreddit[i]['data']['selftext'])\n",
    "        subredditList.append(subreddit[i]['data']['subreddit'])\n",
    "        \n",
    "    newDF = pd.DataFrame(columns = ['Titles', 'Text', 'Subreddit'])\n",
    "    newDF['Titles'] = titleList\n",
    "    newDF['Text'] = textList\n",
    "    newDF['Subreddit'] = subredditList\n",
    "\n",
    "    return (newDF)"
   ]
  },
  {
   "cell_type": "code",
   "execution_count": 149,
   "metadata": {},
   "outputs": [],
   "source": [
    "# converting lists to dataframs\n",
    "leagueDF = convertSubreddit(leagueList)\n",
    "dotaDF = convertSubreddit(dotaList)"
   ]
  },
  {
   "cell_type": "code",
   "execution_count": 153,
   "metadata": {},
   "outputs": [
    {
     "data": {
      "text/html": [
       "<div>\n",
       "<style scoped>\n",
       "    .dataframe tbody tr th:only-of-type {\n",
       "        vertical-align: middle;\n",
       "    }\n",
       "\n",
       "    .dataframe tbody tr th {\n",
       "        vertical-align: top;\n",
       "    }\n",
       "\n",
       "    .dataframe thead th {\n",
       "        text-align: right;\n",
       "    }\n",
       "</style>\n",
       "<table border=\"1\" class=\"dataframe\">\n",
       "  <thead>\n",
       "    <tr style=\"text-align: right;\">\n",
       "      <th></th>\n",
       "      <th>Titles</th>\n",
       "      <th>Text</th>\n",
       "      <th>Subreddit</th>\n",
       "    </tr>\n",
       "  </thead>\n",
       "  <tbody>\n",
       "    <tr>\n",
       "      <th>0</th>\n",
       "      <td>Ready to prove you're Challenger? /r/LeagueofL...</td>\n",
       "      <td>Hi Summoners,\\n\\nDrum roll please... we have s...</td>\n",
       "      <td>leagueoflegends</td>\n",
       "    </tr>\n",
       "    <tr>\n",
       "      <th>1</th>\n",
       "      <td>Patch 9.7 Bug Megathread</td>\n",
       "      <td>Greetings Summoners!\\n\\nWith every new patch R...</td>\n",
       "      <td>leagueoflegends</td>\n",
       "    </tr>\n",
       "    <tr>\n",
       "      <th>2</th>\n",
       "      <td>Mediocre Rap Battle of #LEC｜G2 vs Origen</td>\n",
       "      <td></td>\n",
       "      <td>leagueoflegends</td>\n",
       "    </tr>\n",
       "    <tr>\n",
       "      <th>3</th>\n",
       "      <td>Add the ability to remove all client animations.</td>\n",
       "      <td>Having to wait a duration longer than a Morgan...</td>\n",
       "      <td>leagueoflegends</td>\n",
       "    </tr>\n",
       "    <tr>\n",
       "      <th>4</th>\n",
       "      <td>You know a champion is old when they still tal...</td>\n",
       "      <td>Udyr, Cho’gath and Mordekaiser are all pretty ...</td>\n",
       "      <td>leagueoflegends</td>\n",
       "    </tr>\n",
       "  </tbody>\n",
       "</table>\n",
       "</div>"
      ],
      "text/plain": [
       "                                              Titles  \\\n",
       "0  Ready to prove you're Challenger? /r/LeagueofL...   \n",
       "1                           Patch 9.7 Bug Megathread   \n",
       "2           Mediocre Rap Battle of #LEC｜G2 vs Origen   \n",
       "3   Add the ability to remove all client animations.   \n",
       "4  You know a champion is old when they still tal...   \n",
       "\n",
       "                                                Text        Subreddit  \n",
       "0  Hi Summoners,\\n\\nDrum roll please... we have s...  leagueoflegends  \n",
       "1  Greetings Summoners!\\n\\nWith every new patch R...  leagueoflegends  \n",
       "2                                                     leagueoflegends  \n",
       "3  Having to wait a duration longer than a Morgan...  leagueoflegends  \n",
       "4  Udyr, Cho’gath and Mordekaiser are all pretty ...  leagueoflegends  "
      ]
     },
     "execution_count": 153,
     "metadata": {},
     "output_type": "execute_result"
    }
   ],
   "source": [
    "# checking that league data has been converted correctly\n",
    "leagueDF.head()"
   ]
  },
  {
   "cell_type": "code",
   "execution_count": 154,
   "metadata": {},
   "outputs": [
    {
     "data": {
      "text/html": [
       "<div>\n",
       "<style scoped>\n",
       "    .dataframe tbody tr th:only-of-type {\n",
       "        vertical-align: middle;\n",
       "    }\n",
       "\n",
       "    .dataframe tbody tr th {\n",
       "        vertical-align: top;\n",
       "    }\n",
       "\n",
       "    .dataframe thead th {\n",
       "        text-align: right;\n",
       "    }\n",
       "</style>\n",
       "<table border=\"1\" class=\"dataframe\">\n",
       "  <thead>\n",
       "    <tr style=\"text-align: right;\">\n",
       "      <th></th>\n",
       "      <th>Titles</th>\n",
       "      <th>Text</th>\n",
       "      <th>Subreddit</th>\n",
       "    </tr>\n",
       "  </thead>\n",
       "  <tbody>\n",
       "    <tr>\n",
       "      <th>0</th>\n",
       "      <td>OGA Dota PIT Minor 2019: CIS Qualifier - Day 2...</td>\n",
       "      <td># [](/org-dotapit) [OGA Dota PIT Minor 2019 - ...</td>\n",
       "      <td>DotA2</td>\n",
       "    </tr>\n",
       "    <tr>\n",
       "      <th>1</th>\n",
       "      <td>OGA Dota PIT Minor 2019: North &amp;amp; South Ame...</td>\n",
       "      <td># [](/org-dotapit) [OGA Dota PIT Minor 2019 - ...</td>\n",
       "      <td>DotA2</td>\n",
       "    </tr>\n",
       "    <tr>\n",
       "      <th>2</th>\n",
       "      <td>Chase your dreams</td>\n",
       "      <td></td>\n",
       "      <td>DotA2</td>\n",
       "    </tr>\n",
       "    <tr>\n",
       "      <th>3</th>\n",
       "      <td>We never forget our first time</td>\n",
       "      <td></td>\n",
       "      <td>DotA2</td>\n",
       "    </tr>\n",
       "    <tr>\n",
       "      <th>4</th>\n",
       "      <td>Which combination do you like the best?</td>\n",
       "      <td></td>\n",
       "      <td>DotA2</td>\n",
       "    </tr>\n",
       "  </tbody>\n",
       "</table>\n",
       "</div>"
      ],
      "text/plain": [
       "                                              Titles  \\\n",
       "0  OGA Dota PIT Minor 2019: CIS Qualifier - Day 2...   \n",
       "1  OGA Dota PIT Minor 2019: North &amp; South Ame...   \n",
       "2                                  Chase your dreams   \n",
       "3                     We never forget our first time   \n",
       "4            Which combination do you like the best?   \n",
       "\n",
       "                                                Text Subreddit  \n",
       "0  # [](/org-dotapit) [OGA Dota PIT Minor 2019 - ...     DotA2  \n",
       "1  # [](/org-dotapit) [OGA Dota PIT Minor 2019 - ...     DotA2  \n",
       "2                                                        DotA2  \n",
       "3                                                        DotA2  \n",
       "4                                                        DotA2  "
      ]
     },
     "execution_count": 154,
     "metadata": {},
     "output_type": "execute_result"
    }
   ],
   "source": [
    "# checking that apex data has been converted correctly\n",
    "dotaDF.head()"
   ]
  },
  {
   "cell_type": "code",
   "execution_count": 155,
   "metadata": {},
   "outputs": [],
   "source": [
    "# There are posts which are just videos or images, we will be dropping those entries \n",
    "# since they do not have any relevance to this project\n",
    "mask = dotaDF['Text'] == ''\n",
    "dotaDF.drop(dotaDF[mask].index, inplace = True)"
   ]
  },
  {
   "cell_type": "code",
   "execution_count": 156,
   "metadata": {},
   "outputs": [
    {
     "data": {
      "text/plain": [
       "(1035, 3)"
      ]
     },
     "execution_count": 156,
     "metadata": {},
     "output_type": "execute_result"
    }
   ],
   "source": [
    "# Checking size of new dataframe\n",
    "dotaDF.shape"
   ]
  },
  {
   "cell_type": "code",
   "execution_count": 157,
   "metadata": {},
   "outputs": [],
   "source": [
    "# dropping entries with no text for league of legends subreddit\n",
    "mask = leagueDF['Text'] == ''\n",
    "leagueDF.drop(leagueDF[mask].index, inplace = True)"
   ]
  },
  {
   "cell_type": "code",
   "execution_count": 158,
   "metadata": {},
   "outputs": [
    {
     "data": {
      "text/plain": [
       "(1118, 3)"
      ]
     },
     "execution_count": 158,
     "metadata": {},
     "output_type": "execute_result"
    }
   ],
   "source": [
    "# Checking size of new dataframe\n",
    "leagueDF.shape"
   ]
  },
  {
   "cell_type": "markdown",
   "metadata": {},
   "source": [
    "Since both dataframes are relatively the same size, we can use both of these dataframes for EDA"
   ]
  },
  {
   "cell_type": "code",
   "execution_count": 152,
   "metadata": {},
   "outputs": [
    {
     "data": {
      "text/plain": [
       "Titles       0\n",
       "Text         0\n",
       "Subreddit    0\n",
       "dtype: int64"
      ]
     },
     "execution_count": 152,
     "metadata": {},
     "output_type": "execute_result"
    }
   ],
   "source": []
  },
  {
   "cell_type": "code",
   "execution_count": 159,
   "metadata": {},
   "outputs": [],
   "source": [
    "# creating one large dataframe with both subreddit data\n",
    "redditDF = pd.concat([leagueDF, dotaDF])"
   ]
  },
  {
   "cell_type": "code",
   "execution_count": 161,
   "metadata": {},
   "outputs": [],
   "source": [
    "# Creating CSV files for each data frame\n",
    "redditDF.to_csv('./reddit_dataframe.csv')\n",
    "leagueDF.to_csv('./league_dataframe.csv')\n",
    "dotaDF.to_csv('./dota_dataframe.csv')"
   ]
  },
  {
   "cell_type": "code",
   "execution_count": null,
   "metadata": {},
   "outputs": [],
   "source": []
  }
 ],
 "metadata": {
  "kernelspec": {
   "display_name": "Python 3",
   "language": "python",
   "name": "python3"
  },
  "language_info": {
   "codemirror_mode": {
    "name": "ipython",
    "version": 3
   },
   "file_extension": ".py",
   "mimetype": "text/x-python",
   "name": "python",
   "nbconvert_exporter": "python",
   "pygments_lexer": "ipython3",
   "version": "3.7.1"
  }
 },
 "nbformat": 4,
 "nbformat_minor": 2
}
